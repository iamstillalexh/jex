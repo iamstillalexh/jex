{
  "nbformat": 4,
  "nbformat_minor": 0,
  "metadata": {
    "colab": {
      "provenance": [],
      "authorship_tag": "ABX9TyOa6vghsiPLepYhZ3uiD4SN",
      "include_colab_link": true
    },
    "kernelspec": {
      "name": "python3",
      "display_name": "Python 3"
    },
    "language_info": {
      "name": "python"
    }
  },
  "cells": [
    {
      "cell_type": "markdown",
      "metadata": {
        "id": "view-in-github",
        "colab_type": "text"
      },
      "source": [
        "<a href=\"https://colab.research.google.com/github/iamstillalexh/jex/blob/main/JEX.ipynb\" target=\"_parent\"><img src=\"https://colab.research.google.com/assets/colab-badge.svg\" alt=\"Open In Colab\"/></a>"
      ]
    },
    {
      "cell_type": "markdown",
      "source": [
        "# JEX: the Jerma EXtractor"
      ],
      "metadata": {
        "id": "4CrUZybKLBlt"
      }
    },
    {
      "cell_type": "markdown",
      "source": [
        "\"Chat, no, I'm not gonna download like 40 or 50 gigabytes of video to sift through for *one* joke.\"\n",
        "\n",
        "**NOTES ON USE:**\n",
        "At the moment, all of the files that JEX generates will be loaded into the default \"content\" folder in the file browser on the left of the screen. If they don't show up after running Jex, just hit the \"file reload\" icon at the top and they should appear. If you're unfamiliar with Google Colab, you can run the code either by going to Runtime->Run All, or you can click the \"play\" icons in the top left of each code block. The first code block is simply to download all of the Python libraries that JEX needs to download and edit video, so you will only need to run it once as long as you do not disconnect from the runtime. The second code block is where you specify which timestamp of which Green Screen Stream you would like to isolate, and that can be run as many times as needed. **Make sure to specify the stream, timestamp, and file name *BEFORE* you run the code block.**"
      ],
      "metadata": {
        "id": "KoQS-IGcnOPO"
      }
    },
    {
      "cell_type": "markdown",
      "source": [
        "Step 1: Download dependencies"
      ],
      "metadata": {
        "id": "CoSIdTKyLIJK"
      }
    },
    {
      "cell_type": "code",
      "execution_count": null,
      "metadata": {
        "colab": {
          "base_uri": "https://localhost:8080/"
        },
        "id": "hJXi8GwzLAv-",
        "outputId": "c1d0ff17-de45-4635-c5a5-81e3d1c4a2f4"
      },
      "outputs": [
        {
          "output_type": "stream",
          "name": "stdout",
          "text": [
            "Looking in indexes: https://pypi.org/simple, https://us-python.pkg.dev/colab-wheels/public/simple/\n",
            "Collecting imageio_ffmpeg\n",
            "  Downloading imageio_ffmpeg-0.4.8-py3-none-manylinux2010_x86_64.whl (26.9 MB)\n",
            "\u001b[2K     \u001b[90m━━━━━━━━━━━━━━━━━━━━━━━━━━━━━━━━━━━━━━━━\u001b[0m \u001b[32m26.9/26.9 MB\u001b[0m \u001b[31m27.0 MB/s\u001b[0m eta \u001b[36m0:00:00\u001b[0m\n",
            "\u001b[?25hInstalling collected packages: imageio_ffmpeg\n",
            "Successfully installed imageio_ffmpeg-0.4.8\n",
            "Looking in indexes: https://pypi.org/simple, https://us-python.pkg.dev/colab-wheels/public/simple/\n",
            "Requirement already satisfied: moviepy in /usr/local/lib/python3.8/dist-packages (0.2.3.5)\n",
            "Requirement already satisfied: tqdm<5.0,>=4.11.2 in /usr/local/lib/python3.8/dist-packages (from moviepy) (4.64.1)\n",
            "Requirement already satisfied: numpy in /usr/local/lib/python3.8/dist-packages (from moviepy) (1.22.4)\n",
            "Requirement already satisfied: decorator<5.0,>=4.0.2 in /usr/local/lib/python3.8/dist-packages (from moviepy) (4.4.2)\n",
            "Requirement already satisfied: imageio<3.0,>=2.1.2 in /usr/local/lib/python3.8/dist-packages (from moviepy) (2.9.0)\n",
            "Requirement already satisfied: pillow in /usr/local/lib/python3.8/dist-packages (from imageio<3.0,>=2.1.2->moviepy) (7.1.2)\n",
            "Looking in indexes: https://pypi.org/simple, https://us-python.pkg.dev/colab-wheels/public/simple/\n",
            "Collecting pytube\n",
            "  Downloading pytube-12.1.2-py3-none-any.whl (57 kB)\n",
            "\u001b[2K     \u001b[90m━━━━━━━━━━━━━━━━━━━━━━━━━━━━━━━━━━━━━━━━\u001b[0m \u001b[32m57.0/57.0 KB\u001b[0m \u001b[31m1.6 MB/s\u001b[0m eta \u001b[36m0:00:00\u001b[0m\n",
            "\u001b[?25hInstalling collected packages: pytube\n",
            "Successfully installed pytube-12.1.2\n"
          ]
        }
      ],
      "source": [
        "from IPython.display import clear_output\n",
        "import os\n",
        "!pip install imageio_ffmpeg\n",
        "!pip install moviepy\n",
        "!pip install pytube\n",
        "clear_output()\n",
        "print(\"All set!\")"
      ]
    },
    {
      "cell_type": "markdown",
      "source": [
        "Step 2: Select video and timestamp"
      ],
      "metadata": {
        "id": "ypt6FgoMMKgI"
      }
    },
    {
      "cell_type": "code",
      "source": [
        "def timestamp_to_sec(ts):\n",
        "  time = ts.split(\":\")\n",
        "  hrs = int(time[0]) * 3600\n",
        "  min = int(time[1]) * 60\n",
        "  sec = int(time[2])\n",
        "  time_in_sec = hrs + min + sec\n",
        "  return time_in_sec\n",
        "\n",
        "import sys, re\n",
        "from pytube import YouTube\n",
        "from moviepy.video.io.ffmpeg_tools import ffmpeg_extract_subclip\n",
        "stream_1 = \"https://www.youtube.com/watch?v=SRjOMS30ex0\"\n",
        "stream_2 = \"https://www.youtube.com/watch?v=Ykkyc-dc8Ok\"\n",
        "stream_3 = \"https://www.youtube.com/watch?v=R4MwVD8VxVc\"\n",
        "SAVE_PATH = \"/content/jstreams/\"\n",
        "\n",
        "stream_select = 'Stream 3' # @param [\"Stream 1\", \"Stream 2\", \"Stream 3\"]\n",
        "if stream_select == \"Stream 1\":\n",
        "  stream = stream_1\n",
        "  fn = \"j1\"\n",
        "elif stream_select == \"Stream 2\":\n",
        "  stream = stream_2\n",
        "  fn = \"j2\"\n",
        "else:\n",
        "  stream = stream_3\n",
        "  fn = \"j3\"\n",
        "\n",
        "start_time = \"1:37:53\" # @param {type: \"string\"}\n",
        "st =  timestamp_to_sec(start_time)\n",
        "end_time = \"1:40:38\" # @param {type: \"string\"}\n",
        "et = timestamp_to_sec(end_time)\n",
        "\n",
        "yt = YouTube(stream)\n",
        "\n",
        "vid = yt.streams.get_highest_resolution()\n",
        "vid_path = SAVE_PATH + fn\n",
        "if os.path.exists(vid_path) == False:\n",
        "  print(\"Downloading source...this could take a few minutes\")\n",
        "  vid.download(SAVE_PATH, fn)\n",
        "\n",
        "output_filename = \"jerma_synth.mp4\" # @param {type: \"string\"}\n",
        "\n",
        "ffmpeg_extract_subclip(vid_path, st, et, output_filename)"
      ],
      "metadata": {
        "colab": {
          "base_uri": "https://localhost:8080/"
        },
        "id": "PT5GAuGqMNnK",
        "outputId": "5d397485-42be-42d2-8944-3c29efb3a6e5"
      },
      "execution_count": null,
      "outputs": [
        {
          "output_type": "stream",
          "name": "stdout",
          "text": [
            "\n",
            "[MoviePy] Running:\n",
            ">>> /usr/local/lib/python3.8/dist-packages/imageio_ffmpeg/binaries/ffmpeg-linux64-v4.2.2 -y -i /content/jstreams/j3 -ss 5873.00 -t 165.00 -vcodec copy -acodec copy jerma_synth.mp4\n",
            "... command successful.\n"
          ]
        }
      ]
    }
  ]
}
